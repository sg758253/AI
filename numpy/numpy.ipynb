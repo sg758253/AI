{
  "nbformat": 4,
  "nbformat_minor": 0,
  "metadata": {
    "colab": {
      "name": "numpy.ipynb",
      "provenance": [],
      "authorship_tag": "ABX9TyPnIGKdRYZUkr1AtpFtyO0S",
      "include_colab_link": true
    },
    "kernelspec": {
      "name": "python3",
      "display_name": "Python 3"
    },
    "language_info": {
      "name": "python"
    }
  },
  "cells": [
    {
      "cell_type": "markdown",
      "metadata": {
        "id": "view-in-github",
        "colab_type": "text"
      },
      "source": [
        "<a href=\"https://colab.research.google.com/github/sg758253/AI/blob/main/numpy/numpy.ipynb\" target=\"_parent\"><img src=\"https://colab.research.google.com/assets/colab-badge.svg\" alt=\"Open In Colab\"/></a>"
      ]
    },
    {
      "cell_type": "code",
      "execution_count": null,
      "metadata": {
        "id": "UobpDOlWWSK2"
      },
      "outputs": [],
      "source": [
        "import numpy as np"
      ]
    },
    {
      "cell_type": "code",
      "source": [
        "arr1 = np.array([1,2,3,4])\n",
        "arr1"
      ],
      "metadata": {
        "colab": {
          "base_uri": "https://localhost:8080/"
        },
        "id": "KoNTLNHTWYwi",
        "outputId": "3ab5c08b-e527-458a-b201-5ab78dca4c23"
      },
      "execution_count": null,
      "outputs": [
        {
          "output_type": "execute_result",
          "data": {
            "text/plain": [
              "array([1, 2, 3, 4])"
            ]
          },
          "metadata": {},
          "execution_count": 2
        }
      ]
    },
    {
      "cell_type": "code",
      "source": [
        "print(arr1)"
      ],
      "metadata": {
        "colab": {
          "base_uri": "https://localhost:8080/"
        },
        "id": "dFvuKMrXWapR",
        "outputId": "4093ee0b-ac67-49c5-f0af-bd1b05b3baf0"
      },
      "execution_count": null,
      "outputs": [
        {
          "output_type": "stream",
          "name": "stdout",
          "text": [
            "[1 2 3 4]\n"
          ]
        }
      ]
    },
    {
      "cell_type": "code",
      "source": [
        "type(arr1)\n"
      ],
      "metadata": {
        "colab": {
          "base_uri": "https://localhost:8080/"
        },
        "id": "ozje7W9rWbqh",
        "outputId": "37091ca9-7c3c-47eb-b1cf-71ea01af7fa1"
      },
      "execution_count": null,
      "outputs": [
        {
          "output_type": "execute_result",
          "data": {
            "text/plain": [
              "numpy.ndarray"
            ]
          },
          "metadata": {},
          "execution_count": 4
        }
      ]
    },
    {
      "cell_type": "code",
      "source": [
        "arr1.ndim"
      ],
      "metadata": {
        "colab": {
          "base_uri": "https://localhost:8080/"
        },
        "id": "JPmsRgS-Wc9K",
        "outputId": "56b98b0b-33e0-4d3a-8ccd-765a32231c62"
      },
      "execution_count": null,
      "outputs": [
        {
          "output_type": "execute_result",
          "data": {
            "text/plain": [
              "1"
            ]
          },
          "metadata": {},
          "execution_count": 5
        }
      ]
    },
    {
      "cell_type": "code",
      "source": [
        "arr2 = np.array([[1,2],[3,4],[5,6]])"
      ],
      "metadata": {
        "id": "R99sjVcNWd_B"
      },
      "execution_count": null,
      "outputs": []
    },
    {
      "cell_type": "code",
      "source": [
        "arr2"
      ],
      "metadata": {
        "colab": {
          "base_uri": "https://localhost:8080/"
        },
        "id": "KR52rQQ5WfQz",
        "outputId": "72d0c712-228b-449c-94ff-6a6b5ff054e7"
      },
      "execution_count": null,
      "outputs": [
        {
          "output_type": "execute_result",
          "data": {
            "text/plain": [
              "array([[1, 2],\n",
              "       [3, 4],\n",
              "       [5, 6]])"
            ]
          },
          "metadata": {},
          "execution_count": 7
        }
      ]
    },
    {
      "cell_type": "code",
      "source": [
        "type(arr2)"
      ],
      "metadata": {
        "colab": {
          "base_uri": "https://localhost:8080/"
        },
        "id": "xUKHJTcYWgaO",
        "outputId": "fceff4c3-80de-4853-cfc3-d8c9e74cbac3"
      },
      "execution_count": null,
      "outputs": [
        {
          "output_type": "execute_result",
          "data": {
            "text/plain": [
              "numpy.ndarray"
            ]
          },
          "metadata": {},
          "execution_count": 8
        }
      ]
    },
    {
      "cell_type": "code",
      "source": [
        "arr2.ndim"
      ],
      "metadata": {
        "colab": {
          "base_uri": "https://localhost:8080/"
        },
        "id": "Z9FNJuCMWhhP",
        "outputId": "3e2e79af-c66a-4620-a674-0d2e0310991b"
      },
      "execution_count": null,
      "outputs": [
        {
          "output_type": "execute_result",
          "data": {
            "text/plain": [
              "2"
            ]
          },
          "metadata": {},
          "execution_count": 9
        }
      ]
    },
    {
      "cell_type": "code",
      "source": [
        "arr2.size"
      ],
      "metadata": {
        "colab": {
          "base_uri": "https://localhost:8080/"
        },
        "id": "bcmvIKpCWiyp",
        "outputId": "f366b0d8-51f6-43c5-ea52-c92de110236c"
      },
      "execution_count": null,
      "outputs": [
        {
          "output_type": "execute_result",
          "data": {
            "text/plain": [
              "6"
            ]
          },
          "metadata": {},
          "execution_count": 10
        }
      ]
    },
    {
      "cell_type": "code",
      "source": [
        "arr2.shape"
      ],
      "metadata": {
        "colab": {
          "base_uri": "https://localhost:8080/"
        },
        "id": "t47oDi_vWmNQ",
        "outputId": "f55c2f9b-e729-4c0a-8e54-f8a6d3fab40a"
      },
      "execution_count": null,
      "outputs": [
        {
          "output_type": "execute_result",
          "data": {
            "text/plain": [
              "(3, 2)"
            ]
          },
          "metadata": {},
          "execution_count": 11
        }
      ]
    },
    {
      "cell_type": "code",
      "source": [
        "arr2.dtype"
      ],
      "metadata": {
        "colab": {
          "base_uri": "https://localhost:8080/"
        },
        "id": "RYWH9xpRWnIr",
        "outputId": "fb4834c9-b756-4e89-e971-fd47fc0ccd49"
      },
      "execution_count": null,
      "outputs": [
        {
          "output_type": "execute_result",
          "data": {
            "text/plain": [
              "dtype('int64')"
            ]
          },
          "metadata": {},
          "execution_count": 12
        }
      ]
    },
    {
      "cell_type": "code",
      "source": [
        "arr1.dtype"
      ],
      "metadata": {
        "colab": {
          "base_uri": "https://localhost:8080/"
        },
        "id": "EUS9Jq5QWoSw",
        "outputId": "c7569cfa-d0b7-4658-d61f-360e7ceb72d9"
      },
      "execution_count": null,
      "outputs": [
        {
          "output_type": "execute_result",
          "data": {
            "text/plain": [
              "dtype('int64')"
            ]
          },
          "metadata": {},
          "execution_count": 13
        }
      ]
    },
    {
      "cell_type": "code",
      "source": [
        "np.ones(5)"
      ],
      "metadata": {
        "colab": {
          "base_uri": "https://localhost:8080/"
        },
        "id": "Hdrc0RThWpVp",
        "outputId": "f0da960b-d11e-4381-e9fd-ac677c9c4d6f"
      },
      "execution_count": null,
      "outputs": [
        {
          "output_type": "execute_result",
          "data": {
            "text/plain": [
              "array([1., 1., 1., 1., 1.])"
            ]
          },
          "metadata": {},
          "execution_count": 14
        }
      ]
    },
    {
      "cell_type": "code",
      "source": [
        "mx2 = np.ones((3,4))\n",
        "mx2"
      ],
      "metadata": {
        "colab": {
          "base_uri": "https://localhost:8080/"
        },
        "id": "3ZhDyj2LWqc_",
        "outputId": "74944e0f-5725-470b-b991-71b24d3eab49"
      },
      "execution_count": null,
      "outputs": [
        {
          "output_type": "execute_result",
          "data": {
            "text/plain": [
              "array([[1., 1., 1., 1.],\n",
              "       [1., 1., 1., 1.],\n",
              "       [1., 1., 1., 1.]])"
            ]
          },
          "metadata": {},
          "execution_count": 16
        }
      ]
    },
    {
      "cell_type": "code",
      "source": [
        "mx2 = np.ones((3,4),dtype=int)\n",
        "print(mx2)"
      ],
      "metadata": {
        "colab": {
          "base_uri": "https://localhost:8080/"
        },
        "id": "X-2wYRirWrio",
        "outputId": "ee89949a-4d56-42d8-9537-7cd1895f4705"
      },
      "execution_count": null,
      "outputs": [
        {
          "output_type": "stream",
          "name": "stdout",
          "text": [
            "[[1 1 1 1]\n",
            " [1 1 1 1]\n",
            " [1 1 1 1]]\n"
          ]
        }
      ]
    },
    {
      "cell_type": "code",
      "source": [
        "mx2 = np.zeros((3,4),dtype=int)\n",
        "print(mx2)"
      ],
      "metadata": {
        "colab": {
          "base_uri": "https://localhost:8080/"
        },
        "id": "7cyC99MqWwOx",
        "outputId": "c432f842-15bf-4d44-8240-4c519f70368a"
      },
      "execution_count": null,
      "outputs": [
        {
          "output_type": "stream",
          "name": "stdout",
          "text": [
            "[[0 0 0 0]\n",
            " [0 0 0 0]\n",
            " [0 0 0 0]]\n"
          ]
        }
      ]
    },
    {
      "cell_type": "code",
      "source": [
        "mx2 = np.zeros((3,4),dtype=bool)\n",
        "print(mx2)"
      ],
      "metadata": {
        "colab": {
          "base_uri": "https://localhost:8080/"
        },
        "id": "ksuClRX1WxV_",
        "outputId": "101d5dd3-57ef-404a-d6c5-a896841b54f6"
      },
      "execution_count": null,
      "outputs": [
        {
          "output_type": "stream",
          "name": "stdout",
          "text": [
            "[[False False False False]\n",
            " [False False False False]\n",
            " [False False False False]]\n"
          ]
        }
      ]
    },
    {
      "cell_type": "code",
      "source": [
        "mx2 = np.zeros((3,4),dtype=str)\n",
        "print(mx2)"
      ],
      "metadata": {
        "colab": {
          "base_uri": "https://localhost:8080/"
        },
        "id": "2RkpWVnkWye_",
        "outputId": "d4968838-7f4f-4a7e-d943-7cfe43642cb7"
      },
      "execution_count": null,
      "outputs": [
        {
          "output_type": "stream",
          "name": "stdout",
          "text": [
            "[['' '' '' '']\n",
            " ['' '' '' '']\n",
            " ['' '' '' '']]\n"
          ]
        }
      ]
    },
    {
      "cell_type": "code",
      "source": [
        "en_str=''\n",
        "print(bool(en_str))"
      ],
      "metadata": {
        "colab": {
          "base_uri": "https://localhost:8080/"
        },
        "id": "GVRGW8TjWzbw",
        "outputId": "9a2e286a-1a77-4796-d698-79f48616678a"
      },
      "execution_count": null,
      "outputs": [
        {
          "output_type": "stream",
          "name": "stdout",
          "text": [
            "False\n"
          ]
        }
      ]
    },
    {
      "cell_type": "code",
      "source": [
        "b=False\n",
        "print(str(b))"
      ],
      "metadata": {
        "colab": {
          "base_uri": "https://localhost:8080/"
        },
        "id": "AlDzn57rW2BJ",
        "outputId": "d4c6435c-e049-4c1c-c254-90cbbf8dd731"
      },
      "execution_count": null,
      "outputs": [
        {
          "output_type": "stream",
          "name": "stdout",
          "text": [
            "False\n"
          ]
        }
      ]
    },
    {
      "cell_type": "code",
      "source": [
        "em_mx= np.empty((3,4))\n",
        "print(em_mx)"
      ],
      "metadata": {
        "colab": {
          "base_uri": "https://localhost:8080/"
        },
        "id": "03higz_NW37H",
        "outputId": "38d760a0-f385-4d0e-8e55-d5326265cd5c"
      },
      "execution_count": null,
      "outputs": [
        {
          "output_type": "stream",
          "name": "stdout",
          "text": [
            "[[0. 0. 0. 0.]\n",
            " [0. 0. 0. 0.]\n",
            " [0. 0. 0. 0.]]\n"
          ]
        }
      ]
    },
    {
      "cell_type": "code",
      "source": [
        "em_mx= np.empty((3,3))\n",
        "print(em_mx)"
      ],
      "metadata": {
        "colab": {
          "base_uri": "https://localhost:8080/"
        },
        "id": "2Vg360eDW52j",
        "outputId": "b085c516-c217-4ab6-9d45-a39546fc7bb1"
      },
      "execution_count": null,
      "outputs": [
        {
          "output_type": "stream",
          "name": "stdout",
          "text": [
            "[[4.65956748e-310 3.60739284e-313 1.38338381e-322]\n",
            " [4.65956748e-310 0.00000000e+000 0.00000000e+000]\n",
            " [4.94065646e-323 0.00000000e+000 0.00000000e+000]]\n"
          ]
        }
      ]
    },
    {
      "cell_type": "code",
      "source": [
        "em_mx= np.empty((4,3))\n",
        "print(em_mx)"
      ],
      "metadata": {
        "colab": {
          "base_uri": "https://localhost:8080/"
        },
        "id": "QT10kq10W7Du",
        "outputId": "25e38210-67cf-49dd-c6a7-cca38159ef37"
      },
      "execution_count": null,
      "outputs": [
        {
          "output_type": "stream",
          "name": "stdout",
          "text": [
            "[[0. 0. 0.]\n",
            " [0. 0. 0.]\n",
            " [0. 0. 0.]\n",
            " [0. 0. 0.]]\n"
          ]
        }
      ]
    },
    {
      "cell_type": "markdown",
      "source": [
        "#np.arrange(start,end,steps)"
      ],
      "metadata": {
        "id": "Zf2inYJEW-0r"
      }
    },
    {
      "cell_type": "code",
      "source": [
        "arr1 = np.arange(1,13,1)\n",
        "print(arr1)"
      ],
      "metadata": {
        "colab": {
          "base_uri": "https://localhost:8080/"
        },
        "id": "1ElC44gnW8SG",
        "outputId": "7c26137c-296f-45a3-cb8b-4cabc45d9f2d"
      },
      "execution_count": null,
      "outputs": [
        {
          "output_type": "stream",
          "name": "stdout",
          "text": [
            "[ 1  2  3  4  5  6  7  8  9 10 11 12]\n"
          ]
        }
      ]
    },
    {
      "cell_type": "markdown",
      "source": [
        "# linspace"
      ],
      "metadata": {
        "id": "zfpzLyD6XTQ_"
      }
    },
    {
      "cell_type": "code",
      "source": [
        "np.linspace(1,5,4)"
      ],
      "metadata": {
        "colab": {
          "base_uri": "https://localhost:8080/"
        },
        "id": "iqpmeioJXA-t",
        "outputId": "3e95158e-d939-4c94-f2c6-6693ed5c5cd1"
      },
      "execution_count": null,
      "outputs": [
        {
          "output_type": "execute_result",
          "data": {
            "text/plain": [
              "array([1.        , 2.33333333, 3.66666667, 5.        ])"
            ]
          },
          "metadata": {},
          "execution_count": 27
        }
      ]
    },
    {
      "cell_type": "markdown",
      "source": [
        "#Reshape"
      ],
      "metadata": {
        "id": "dozDlrn9XRKN"
      }
    },
    {
      "cell_type": "code",
      "source": [
        "#error\n",
        "arr1.reshape(3,5)"
      ],
      "metadata": {
        "colab": {
          "base_uri": "https://localhost:8080/",
          "height": 165
        },
        "id": "EwZaB-OgXDHP",
        "outputId": "71643b57-424f-490a-a818-7cfd90d4e4ab"
      },
      "execution_count": null,
      "outputs": [
        {
          "output_type": "error",
          "ename": "ValueError",
          "evalue": "ignored",
          "traceback": [
            "\u001b[0;31m---------------------------------------------------------------------------\u001b[0m",
            "\u001b[0;31mValueError\u001b[0m                                Traceback (most recent call last)",
            "\u001b[0;32m<ipython-input-28-209a91d49cc9>\u001b[0m in \u001b[0;36m<module>\u001b[0;34m()\u001b[0m\n\u001b[0;32m----> 1\u001b[0;31m \u001b[0marr1\u001b[0m\u001b[0;34m.\u001b[0m\u001b[0mreshape\u001b[0m\u001b[0;34m(\u001b[0m\u001b[0;36m3\u001b[0m\u001b[0;34m,\u001b[0m\u001b[0;36m5\u001b[0m\u001b[0;34m)\u001b[0m\u001b[0;34m\u001b[0m\u001b[0;34m\u001b[0m\u001b[0m\n\u001b[0m",
            "\u001b[0;31mValueError\u001b[0m: cannot reshape array of size 12 into shape (3,5)"
          ]
        }
      ]
    },
    {
      "cell_type": "code",
      "source": [
        "#error\n",
        "arr1.reshape(3,2)"
      ],
      "metadata": {
        "colab": {
          "base_uri": "https://localhost:8080/",
          "height": 165
        },
        "id": "Hm_za-VVXFTU",
        "outputId": "6ff475e3-53a9-4b96-f52c-e1cc8ed25e16"
      },
      "execution_count": null,
      "outputs": [
        {
          "output_type": "error",
          "ename": "ValueError",
          "evalue": "ignored",
          "traceback": [
            "\u001b[0;31m---------------------------------------------------------------------------\u001b[0m",
            "\u001b[0;31mValueError\u001b[0m                                Traceback (most recent call last)",
            "\u001b[0;32m<ipython-input-29-6cf091406be7>\u001b[0m in \u001b[0;36m<module>\u001b[0;34m()\u001b[0m\n\u001b[0;32m----> 1\u001b[0;31m \u001b[0marr1\u001b[0m\u001b[0;34m.\u001b[0m\u001b[0mreshape\u001b[0m\u001b[0;34m(\u001b[0m\u001b[0;36m3\u001b[0m\u001b[0;34m,\u001b[0m\u001b[0;36m2\u001b[0m\u001b[0;34m)\u001b[0m\u001b[0;34m\u001b[0m\u001b[0;34m\u001b[0m\u001b[0m\n\u001b[0m",
            "\u001b[0;31mValueError\u001b[0m: cannot reshape array of size 12 into shape (3,2)"
          ]
        }
      ]
    },
    {
      "cell_type": "code",
      "source": [
        "arr1.reshape(3,4)"
      ],
      "metadata": {
        "colab": {
          "base_uri": "https://localhost:8080/"
        },
        "id": "mVgRuiv0XJPa",
        "outputId": "b5b4f06c-e266-49dd-c352-d2e8b7912312"
      },
      "execution_count": null,
      "outputs": [
        {
          "output_type": "execute_result",
          "data": {
            "text/plain": [
              "array([[ 1,  2,  3,  4],\n",
              "       [ 5,  6,  7,  8],\n",
              "       [ 9, 10, 11, 12]])"
            ]
          },
          "metadata": {},
          "execution_count": 30
        }
      ]
    },
    {
      "cell_type": "code",
      "source": [
        "arr1.reshape(2,3,2)"
      ],
      "metadata": {
        "colab": {
          "base_uri": "https://localhost:8080/"
        },
        "id": "o4V3x1oLXLJy",
        "outputId": "4b5be022-5e7c-4e93-ee5d-ff78dd4e36a4"
      },
      "execution_count": null,
      "outputs": [
        {
          "output_type": "execute_result",
          "data": {
            "text/plain": [
              "array([[[ 1,  2],\n",
              "        [ 3,  4],\n",
              "        [ 5,  6]],\n",
              "\n",
              "       [[ 7,  8],\n",
              "        [ 9, 10],\n",
              "        [11, 12]]])"
            ]
          },
          "metadata": {},
          "execution_count": 31
        }
      ]
    },
    {
      "cell_type": "code",
      "source": [
        "arr2d = np.arange(1,13).reshape(2,6)\n",
        "print(arr2d)"
      ],
      "metadata": {
        "colab": {
          "base_uri": "https://localhost:8080/"
        },
        "id": "fvSJlMtMXNIK",
        "outputId": "c54265be-e5bc-4baf-d948-e6c377eda9d7"
      },
      "execution_count": null,
      "outputs": [
        {
          "output_type": "stream",
          "name": "stdout",
          "text": [
            "[[ 1  2  3  4  5  6]\n",
            " [ 7  8  9 10 11 12]]\n"
          ]
        }
      ]
    },
    {
      "cell_type": "markdown",
      "source": [
        "#ravel"
      ],
      "metadata": {
        "id": "VQBIoBq-Xcuk"
      }
    },
    {
      "cell_type": "code",
      "source": [
        "arr2d.ravel()"
      ],
      "metadata": {
        "colab": {
          "base_uri": "https://localhost:8080/"
        },
        "id": "rVIPY1l8XPf2",
        "outputId": "0f143f29-4a44-4257-fc56-73ec480eb262"
      },
      "execution_count": null,
      "outputs": [
        {
          "output_type": "execute_result",
          "data": {
            "text/plain": [
              "array([ 1,  2,  3,  4,  5,  6,  7,  8,  9, 10, 11, 12])"
            ]
          },
          "metadata": {},
          "execution_count": 33
        }
      ]
    },
    {
      "cell_type": "markdown",
      "source": [
        "#flatten"
      ],
      "metadata": {
        "id": "PMbYfpBvXis0"
      }
    },
    {
      "cell_type": "code",
      "source": [
        "arr2d.flatten()"
      ],
      "metadata": {
        "colab": {
          "base_uri": "https://localhost:8080/"
        },
        "id": "FJGFkiunXfXC",
        "outputId": "508270e0-a729-4205-8eda-7a799d061965"
      },
      "execution_count": null,
      "outputs": [
        {
          "output_type": "execute_result",
          "data": {
            "text/plain": [
              "array([ 1,  2,  3,  4,  5,  6,  7,  8,  9, 10, 11, 12])"
            ]
          },
          "metadata": {},
          "execution_count": 34
        }
      ]
    },
    {
      "cell_type": "markdown",
      "source": [
        "Transpose"
      ],
      "metadata": {
        "id": "T2fHx1ReXlWI"
      }
    },
    {
      "cell_type": "code",
      "source": [
        "arr2d.transpose()"
      ],
      "metadata": {
        "colab": {
          "base_uri": "https://localhost:8080/"
        },
        "id": "EOpeX-qnXg5B",
        "outputId": "dd439ad9-2194-4bb9-b8d0-31af03102f03"
      },
      "execution_count": null,
      "outputs": [
        {
          "output_type": "execute_result",
          "data": {
            "text/plain": [
              "array([[ 1,  7],\n",
              "       [ 2,  8],\n",
              "       [ 3,  9],\n",
              "       [ 4, 10],\n",
              "       [ 5, 11],\n",
              "       [ 6, 12]])"
            ]
          },
          "metadata": {},
          "execution_count": 35
        }
      ]
    },
    {
      "cell_type": "code",
      "source": [
        "arr2d.T"
      ],
      "metadata": {
        "colab": {
          "base_uri": "https://localhost:8080/"
        },
        "id": "fskYYV-iXndu",
        "outputId": "82c854a3-454b-4e3d-9554-ec1516028677"
      },
      "execution_count": null,
      "outputs": [
        {
          "output_type": "execute_result",
          "data": {
            "text/plain": [
              "array([[ 1,  7],\n",
              "       [ 2,  8],\n",
              "       [ 3,  9],\n",
              "       [ 4, 10],\n",
              "       [ 5, 11],\n",
              "       [ 6, 12]])"
            ]
          },
          "metadata": {},
          "execution_count": 36
        }
      ]
    },
    {
      "cell_type": "code",
      "source": [
        "arr1= np.arange(1,10).reshape(3,3)\n",
        "arr1"
      ],
      "metadata": {
        "colab": {
          "base_uri": "https://localhost:8080/"
        },
        "id": "8bWLUeLnXpGd",
        "outputId": "27dd4bb8-411f-4a50-cc2c-36cc8cc1385c"
      },
      "execution_count": null,
      "outputs": [
        {
          "output_type": "execute_result",
          "data": {
            "text/plain": [
              "array([[1, 2, 3],\n",
              "       [4, 5, 6],\n",
              "       [7, 8, 9]])"
            ]
          },
          "metadata": {},
          "execution_count": 38
        }
      ]
    },
    {
      "cell_type": "code",
      "source": [
        "arr2= np.arange(1,10).reshape(3,3)\n",
        "arr2"
      ],
      "metadata": {
        "colab": {
          "base_uri": "https://localhost:8080/"
        },
        "id": "YMjVF13eXr3k",
        "outputId": "5b0b5ed4-bd44-43b8-95c7-1e64897db5d1"
      },
      "execution_count": null,
      "outputs": [
        {
          "output_type": "execute_result",
          "data": {
            "text/plain": [
              "array([[1, 2, 3],\n",
              "       [4, 5, 6],\n",
              "       [7, 8, 9]])"
            ]
          },
          "metadata": {},
          "execution_count": 39
        }
      ]
    },
    {
      "cell_type": "code",
      "source": [
        "arr1+arr2"
      ],
      "metadata": {
        "colab": {
          "base_uri": "https://localhost:8080/"
        },
        "id": "ZxjDb4FTXwe9",
        "outputId": "7ca7571e-92e8-4cf3-cec6-2fbd995f4135"
      },
      "execution_count": null,
      "outputs": [
        {
          "output_type": "execute_result",
          "data": {
            "text/plain": [
              "array([[ 2,  4,  6],\n",
              "       [ 8, 10, 12],\n",
              "       [14, 16, 18]])"
            ]
          },
          "metadata": {},
          "execution_count": 40
        }
      ]
    },
    {
      "cell_type": "code",
      "source": [
        "np.add(arr1,arr2)"
      ],
      "metadata": {
        "colab": {
          "base_uri": "https://localhost:8080/"
        },
        "id": "TK073nYEXzGm",
        "outputId": "80d7ebfb-5cd2-4599-a44c-375c1d6b66a0"
      },
      "execution_count": null,
      "outputs": [
        {
          "output_type": "execute_result",
          "data": {
            "text/plain": [
              "array([[ 2,  4,  6],\n",
              "       [ 8, 10, 12],\n",
              "       [14, 16, 18]])"
            ]
          },
          "metadata": {},
          "execution_count": 41
        }
      ]
    },
    {
      "cell_type": "code",
      "source": [
        "arr1-arr2"
      ],
      "metadata": {
        "colab": {
          "base_uri": "https://localhost:8080/"
        },
        "id": "794MKqmtX002",
        "outputId": "9912f66e-32e5-4c50-be4d-18aad44c4961"
      },
      "execution_count": null,
      "outputs": [
        {
          "output_type": "execute_result",
          "data": {
            "text/plain": [
              "array([[0, 0, 0],\n",
              "       [0, 0, 0],\n",
              "       [0, 0, 0]])"
            ]
          },
          "metadata": {},
          "execution_count": 42
        }
      ]
    },
    {
      "cell_type": "code",
      "source": [
        "np.subtract(arr1,arr2)"
      ],
      "metadata": {
        "colab": {
          "base_uri": "https://localhost:8080/"
        },
        "id": "iv3-jpMiX2HM",
        "outputId": "fb83723d-5a3f-4f7d-e04b-b82690271a09"
      },
      "execution_count": null,
      "outputs": [
        {
          "output_type": "execute_result",
          "data": {
            "text/plain": [
              "array([[0, 0, 0],\n",
              "       [0, 0, 0],\n",
              "       [0, 0, 0]])"
            ]
          },
          "metadata": {},
          "execution_count": 43
        }
      ]
    },
    {
      "cell_type": "code",
      "source": [
        "arr1/arr2"
      ],
      "metadata": {
        "colab": {
          "base_uri": "https://localhost:8080/"
        },
        "id": "YBTErS1KX3RW",
        "outputId": "c25035f4-dd3f-40d0-eb19-d7f0bf962bfe"
      },
      "execution_count": null,
      "outputs": [
        {
          "output_type": "execute_result",
          "data": {
            "text/plain": [
              "array([[1., 1., 1.],\n",
              "       [1., 1., 1.],\n",
              "       [1., 1., 1.]])"
            ]
          },
          "metadata": {},
          "execution_count": 44
        }
      ]
    },
    {
      "cell_type": "code",
      "source": [
        "np.divide(arr1,arr2)"
      ],
      "metadata": {
        "colab": {
          "base_uri": "https://localhost:8080/"
        },
        "id": "Xgqhc5wTX4hN",
        "outputId": "45338572-4960-4782-ac66-3196c94203ac"
      },
      "execution_count": null,
      "outputs": [
        {
          "output_type": "execute_result",
          "data": {
            "text/plain": [
              "array([[1., 1., 1.],\n",
              "       [1., 1., 1.],\n",
              "       [1., 1., 1.]])"
            ]
          },
          "metadata": {},
          "execution_count": 45
        }
      ]
    },
    {
      "cell_type": "code",
      "source": [
        "arr1*arr2"
      ],
      "metadata": {
        "colab": {
          "base_uri": "https://localhost:8080/"
        },
        "id": "E8oAh9KMX5tH",
        "outputId": "800a86a4-63cf-4943-9146-e438e9126e6e"
      },
      "execution_count": null,
      "outputs": [
        {
          "output_type": "execute_result",
          "data": {
            "text/plain": [
              "array([[ 1,  4,  9],\n",
              "       [16, 25, 36],\n",
              "       [49, 64, 81]])"
            ]
          },
          "metadata": {},
          "execution_count": 46
        }
      ]
    },
    {
      "cell_type": "code",
      "source": [
        "np.multiply(arr1,arr2)"
      ],
      "metadata": {
        "colab": {
          "base_uri": "https://localhost:8080/"
        },
        "id": "J8zmxy42X6sM",
        "outputId": "db2e0619-0e87-4881-ea51-ba35bebb1986"
      },
      "execution_count": null,
      "outputs": [
        {
          "output_type": "execute_result",
          "data": {
            "text/plain": [
              "array([[ 1,  4,  9],\n",
              "       [16, 25, 36],\n",
              "       [49, 64, 81]])"
            ]
          },
          "metadata": {},
          "execution_count": 47
        }
      ]
    },
    {
      "cell_type": "markdown",
      "source": [
        "#Matrix production"
      ],
      "metadata": {
        "id": "IQLvCvuKX-cn"
      }
    },
    {
      "cell_type": "code",
      "source": [
        "arr1@arr2"
      ],
      "metadata": {
        "colab": {
          "base_uri": "https://localhost:8080/"
        },
        "id": "4yHlxkLiX7yz",
        "outputId": "d689e0d1-e770-494b-9b1c-fe37a09dfaf8"
      },
      "execution_count": null,
      "outputs": [
        {
          "output_type": "execute_result",
          "data": {
            "text/plain": [
              "array([[ 30,  36,  42],\n",
              "       [ 66,  81,  96],\n",
              "       [102, 126, 150]])"
            ]
          },
          "metadata": {},
          "execution_count": 48
        }
      ]
    },
    {
      "cell_type": "code",
      "source": [
        "arr1.dot(arr2)"
      ],
      "metadata": {
        "colab": {
          "base_uri": "https://localhost:8080/"
        },
        "id": "69QjqrxmX84o",
        "outputId": "e99a2f76-a9b3-4211-fb74-c12edafc5376"
      },
      "execution_count": null,
      "outputs": [
        {
          "output_type": "execute_result",
          "data": {
            "text/plain": [
              "array([[ 30,  36,  42],\n",
              "       [ 66,  81,  96],\n",
              "       [102, 126, 150]])"
            ]
          },
          "metadata": {},
          "execution_count": 49
        }
      ]
    },
    {
      "cell_type": "code",
      "source": [
        "arr1.max()"
      ],
      "metadata": {
        "colab": {
          "base_uri": "https://localhost:8080/"
        },
        "id": "_TGRCKImYDdC",
        "outputId": "a49ea655-2ba6-4fa5-a958-002ff23aad6b"
      },
      "execution_count": null,
      "outputs": [
        {
          "output_type": "execute_result",
          "data": {
            "text/plain": [
              "9"
            ]
          },
          "metadata": {},
          "execution_count": 50
        }
      ]
    },
    {
      "cell_type": "code",
      "source": [
        "arr1.argmax()"
      ],
      "metadata": {
        "colab": {
          "base_uri": "https://localhost:8080/"
        },
        "id": "qhjmI9LCYFa8",
        "outputId": "a2c2c0ff-3c99-4721-925c-c654f7a6d27d"
      },
      "execution_count": null,
      "outputs": [
        {
          "output_type": "execute_result",
          "data": {
            "text/plain": [
              "8"
            ]
          },
          "metadata": {},
          "execution_count": 51
        }
      ]
    },
    {
      "cell_type": "code",
      "source": [
        "#column = axis 0 \n",
        "arr1.max(axis=0)"
      ],
      "metadata": {
        "colab": {
          "base_uri": "https://localhost:8080/"
        },
        "id": "jXsnhhlQYGtw",
        "outputId": "3d09ad3c-f040-4bb1-9b5b-cdf84cc774a4"
      },
      "execution_count": null,
      "outputs": [
        {
          "output_type": "execute_result",
          "data": {
            "text/plain": [
              "array([7, 8, 9])"
            ]
          },
          "metadata": {},
          "execution_count": 52
        }
      ]
    },
    {
      "cell_type": "code",
      "source": [
        "#row = axis 1\n",
        "arr1.max(axis=1)"
      ],
      "metadata": {
        "colab": {
          "base_uri": "https://localhost:8080/"
        },
        "id": "kc438PKMYI9t",
        "outputId": "3ba0fd07-4ea5-4cbd-e8bf-1ddfb5292d79"
      },
      "execution_count": null,
      "outputs": [
        {
          "output_type": "execute_result",
          "data": {
            "text/plain": [
              "array([3, 6, 9])"
            ]
          },
          "metadata": {},
          "execution_count": 53
        }
      ]
    },
    {
      "cell_type": "code",
      "source": [
        "arr1.min()"
      ],
      "metadata": {
        "colab": {
          "base_uri": "https://localhost:8080/"
        },
        "id": "4GkFbF0NYSPL",
        "outputId": "2c082701-1fad-448b-8308-52a64fa089c7"
      },
      "execution_count": null,
      "outputs": [
        {
          "output_type": "execute_result",
          "data": {
            "text/plain": [
              "1"
            ]
          },
          "metadata": {},
          "execution_count": 54
        }
      ]
    },
    {
      "cell_type": "code",
      "source": [
        "arr1.argmin()"
      ],
      "metadata": {
        "colab": {
          "base_uri": "https://localhost:8080/"
        },
        "id": "dSCiH69EYTOp",
        "outputId": "15a328b2-26bc-4eda-8598-3dc00d67601f"
      },
      "execution_count": null,
      "outputs": [
        {
          "output_type": "execute_result",
          "data": {
            "text/plain": [
              "0"
            ]
          },
          "metadata": {},
          "execution_count": 55
        }
      ]
    },
    {
      "cell_type": "code",
      "source": [
        "arr1.min(axis=0)"
      ],
      "metadata": {
        "colab": {
          "base_uri": "https://localhost:8080/"
        },
        "id": "st-fTBRDYUmT",
        "outputId": "ffbd74b8-4879-4d04-d70b-2e6cf288c86d"
      },
      "execution_count": null,
      "outputs": [
        {
          "output_type": "execute_result",
          "data": {
            "text/plain": [
              "array([1, 2, 3])"
            ]
          },
          "metadata": {},
          "execution_count": 56
        }
      ]
    },
    {
      "cell_type": "code",
      "source": [
        "arr1.max(axis=1)"
      ],
      "metadata": {
        "colab": {
          "base_uri": "https://localhost:8080/"
        },
        "id": "RheL_WNOYWI5",
        "outputId": "6a0c0d4c-8b77-4323-a3a6-5974f77d2411"
      },
      "execution_count": null,
      "outputs": [
        {
          "output_type": "execute_result",
          "data": {
            "text/plain": [
              "array([3, 6, 9])"
            ]
          },
          "metadata": {},
          "execution_count": 57
        }
      ]
    },
    {
      "cell_type": "code",
      "source": [
        "np.sum(arr1)"
      ],
      "metadata": {
        "colab": {
          "base_uri": "https://localhost:8080/"
        },
        "id": "GsFBMdG4YXpW",
        "outputId": "56ef434a-8267-4bc4-d80e-d07047f898ba"
      },
      "execution_count": null,
      "outputs": [
        {
          "output_type": "execute_result",
          "data": {
            "text/plain": [
              "45"
            ]
          },
          "metadata": {},
          "execution_count": 58
        }
      ]
    },
    {
      "cell_type": "code",
      "source": [
        "np.sum(arr1,axis=0)"
      ],
      "metadata": {
        "colab": {
          "base_uri": "https://localhost:8080/"
        },
        "id": "41C0eKugYYsZ",
        "outputId": "eb48d5f1-6ce7-4b28-b5aa-8e8607f0004c"
      },
      "execution_count": null,
      "outputs": [
        {
          "output_type": "execute_result",
          "data": {
            "text/plain": [
              "array([12, 15, 18])"
            ]
          },
          "metadata": {},
          "execution_count": 59
        }
      ]
    },
    {
      "cell_type": "code",
      "source": [
        "np.sum(arr1,axis=1)"
      ],
      "metadata": {
        "colab": {
          "base_uri": "https://localhost:8080/"
        },
        "id": "3gS_GmSHYaE0",
        "outputId": "aaa48d93-4189-4a90-9294-bf6ab164fa0d"
      },
      "execution_count": null,
      "outputs": [
        {
          "output_type": "execute_result",
          "data": {
            "text/plain": [
              "array([ 6, 15, 24])"
            ]
          },
          "metadata": {},
          "execution_count": 60
        }
      ]
    },
    {
      "cell_type": "code",
      "source": [
        "np.mean(arr1)"
      ],
      "metadata": {
        "colab": {
          "base_uri": "https://localhost:8080/"
        },
        "id": "LpqbCkIPYbNc",
        "outputId": "c47a0b3b-7938-4cd5-96a4-a970076d790a"
      },
      "execution_count": null,
      "outputs": [
        {
          "output_type": "execute_result",
          "data": {
            "text/plain": [
              "5.0"
            ]
          },
          "metadata": {},
          "execution_count": 61
        }
      ]
    },
    {
      "cell_type": "code",
      "source": [
        "np.sqrt(arr1)"
      ],
      "metadata": {
        "colab": {
          "base_uri": "https://localhost:8080/"
        },
        "id": "zITjazODYcdN",
        "outputId": "4aa3e3b2-f93b-4768-cc37-b4bf507c0110"
      },
      "execution_count": null,
      "outputs": [
        {
          "output_type": "execute_result",
          "data": {
            "text/plain": [
              "array([[1.        , 1.41421356, 1.73205081],\n",
              "       [2.        , 2.23606798, 2.44948974],\n",
              "       [2.64575131, 2.82842712, 3.        ]])"
            ]
          },
          "metadata": {},
          "execution_count": 62
        }
      ]
    },
    {
      "cell_type": "code",
      "source": [
        "np.std(arr1)"
      ],
      "metadata": {
        "colab": {
          "base_uri": "https://localhost:8080/"
        },
        "id": "kaFgWhl4Ydu7",
        "outputId": "9ed1ec9c-8363-4e0b-bf7c-adc15ed7bb08"
      },
      "execution_count": null,
      "outputs": [
        {
          "output_type": "execute_result",
          "data": {
            "text/plain": [
              "2.581988897471611"
            ]
          },
          "metadata": {},
          "execution_count": 63
        }
      ]
    },
    {
      "cell_type": "code",
      "source": [
        "np.exp(arr1)"
      ],
      "metadata": {
        "colab": {
          "base_uri": "https://localhost:8080/"
        },
        "id": "NbQY_wwNYe-x",
        "outputId": "af4d2fd8-528c-4d3c-9e31-b1b1bbbc2a05"
      },
      "execution_count": null,
      "outputs": [
        {
          "output_type": "execute_result",
          "data": {
            "text/plain": [
              "array([[2.71828183e+00, 7.38905610e+00, 2.00855369e+01],\n",
              "       [5.45981500e+01, 1.48413159e+02, 4.03428793e+02],\n",
              "       [1.09663316e+03, 2.98095799e+03, 8.10308393e+03]])"
            ]
          },
          "metadata": {},
          "execution_count": 64
        }
      ]
    },
    {
      "cell_type": "code",
      "source": [
        "np.log(arr1)"
      ],
      "metadata": {
        "colab": {
          "base_uri": "https://localhost:8080/"
        },
        "id": "F6AWu-c6YgHP",
        "outputId": "2c5dbce9-4f4d-41fe-f1d4-8f7e3f3a0a7f"
      },
      "execution_count": null,
      "outputs": [
        {
          "output_type": "execute_result",
          "data": {
            "text/plain": [
              "array([[0.        , 0.69314718, 1.09861229],\n",
              "       [1.38629436, 1.60943791, 1.79175947],\n",
              "       [1.94591015, 2.07944154, 2.19722458]])"
            ]
          },
          "metadata": {},
          "execution_count": 65
        }
      ]
    },
    {
      "cell_type": "code",
      "source": [
        "np.log10(arr1)"
      ],
      "metadata": {
        "colab": {
          "base_uri": "https://localhost:8080/"
        },
        "id": "f3nDGPaAYhNg",
        "outputId": "bf5d7686-484f-4f35-dab0-a1e3e0172077"
      },
      "execution_count": null,
      "outputs": [
        {
          "output_type": "execute_result",
          "data": {
            "text/plain": [
              "array([[0.        , 0.30103   , 0.47712125],\n",
              "       [0.60205999, 0.69897   , 0.77815125],\n",
              "       [0.84509804, 0.90308999, 0.95424251]])"
            ]
          },
          "metadata": {},
          "execution_count": 66
        }
      ]
    },
    {
      "cell_type": "markdown",
      "source": [
        "# numpy array slicing(:)"
      ],
      "metadata": {
        "id": "4xU16PexciiL"
      }
    },
    {
      "cell_type": "code",
      "source": [
        "mx = np.arange(1,101).reshape(10,10)\n",
        "print(mx)"
      ],
      "metadata": {
        "colab": {
          "base_uri": "https://localhost:8080/"
        },
        "id": "v8D8rsQXYiWG",
        "outputId": "fdf41269-e46e-4304-e80f-9e9dd19c5885"
      },
      "execution_count": null,
      "outputs": [
        {
          "output_type": "stream",
          "name": "stdout",
          "text": [
            "[[  1   2   3   4   5   6   7   8   9  10]\n",
            " [ 11  12  13  14  15  16  17  18  19  20]\n",
            " [ 21  22  23  24  25  26  27  28  29  30]\n",
            " [ 31  32  33  34  35  36  37  38  39  40]\n",
            " [ 41  42  43  44  45  46  47  48  49  50]\n",
            " [ 51  52  53  54  55  56  57  58  59  60]\n",
            " [ 61  62  63  64  65  66  67  68  69  70]\n",
            " [ 71  72  73  74  75  76  77  78  79  80]\n",
            " [ 81  82  83  84  85  86  87  88  89  90]\n",
            " [ 91  92  93  94  95  96  97  98  99 100]]\n"
          ]
        }
      ]
    },
    {
      "cell_type": "code",
      "source": [
        "mx[0,0]"
      ],
      "metadata": {
        "colab": {
          "base_uri": "https://localhost:8080/"
        },
        "id": "7KSFNwV2YkN7",
        "outputId": "1de41344-9942-4e8b-bb70-4a8d271151ab"
      },
      "execution_count": null,
      "outputs": [
        {
          "output_type": "execute_result",
          "data": {
            "text/plain": [
              "1"
            ]
          },
          "metadata": {},
          "execution_count": 68
        }
      ]
    },
    {
      "cell_type": "code",
      "source": [
        "mx[0,0].ndim"
      ],
      "metadata": {
        "colab": {
          "base_uri": "https://localhost:8080/"
        },
        "id": "DOVFF8NeYlQ8",
        "outputId": "8b65260e-e6ba-4c4b-9722-681f8a8f4fe1"
      },
      "execution_count": null,
      "outputs": [
        {
          "output_type": "execute_result",
          "data": {
            "text/plain": [
              "0"
            ]
          },
          "metadata": {},
          "execution_count": 69
        }
      ]
    },
    {
      "cell_type": "code",
      "source": [
        "mx[0]"
      ],
      "metadata": {
        "colab": {
          "base_uri": "https://localhost:8080/"
        },
        "id": "sateX8wVYnJD",
        "outputId": "338996ff-81d9-40eb-f2b2-7031c5a5ae15"
      },
      "execution_count": null,
      "outputs": [
        {
          "output_type": "execute_result",
          "data": {
            "text/plain": [
              "array([ 1,  2,  3,  4,  5,  6,  7,  8,  9, 10])"
            ]
          },
          "metadata": {},
          "execution_count": 70
        }
      ]
    },
    {
      "cell_type": "code",
      "source": [
        "mx[0].ndim"
      ],
      "metadata": {
        "colab": {
          "base_uri": "https://localhost:8080/"
        },
        "id": "VUV2T2uMYq8N",
        "outputId": "77239839-fbd1-412b-f309-b2f6564a41d4"
      },
      "execution_count": null,
      "outputs": [
        {
          "output_type": "execute_result",
          "data": {
            "text/plain": [
              "1"
            ]
          },
          "metadata": {},
          "execution_count": 71
        }
      ]
    },
    {
      "cell_type": "code",
      "source": [
        "mx[:,0]"
      ],
      "metadata": {
        "colab": {
          "base_uri": "https://localhost:8080/"
        },
        "id": "WYCyuXKuYs5U",
        "outputId": "90f7c59e-f343-41d8-ceba-095ef3410b1a"
      },
      "execution_count": null,
      "outputs": [
        {
          "output_type": "execute_result",
          "data": {
            "text/plain": [
              "array([ 1, 11, 21, 31, 41, 51, 61, 71, 81, 91])"
            ]
          },
          "metadata": {},
          "execution_count": 72
        }
      ]
    },
    {
      "cell_type": "code",
      "source": [
        "mx[:,0:1]"
      ],
      "metadata": {
        "colab": {
          "base_uri": "https://localhost:8080/"
        },
        "id": "cQIKOdhfYvGR",
        "outputId": "fb519f4f-e927-4aea-d805-5aab39256733"
      },
      "execution_count": null,
      "outputs": [
        {
          "output_type": "execute_result",
          "data": {
            "text/plain": [
              "array([[ 1],\n",
              "       [11],\n",
              "       [21],\n",
              "       [31],\n",
              "       [41],\n",
              "       [51],\n",
              "       [61],\n",
              "       [71],\n",
              "       [81],\n",
              "       [91]])"
            ]
          },
          "metadata": {},
          "execution_count": 73
        }
      ]
    },
    {
      "cell_type": "code",
      "source": [
        "mx[:,0:1].ndim"
      ],
      "metadata": {
        "colab": {
          "base_uri": "https://localhost:8080/"
        },
        "id": "knQfPCryY2cY",
        "outputId": "73f36de7-9eb4-4c14-dd23-d74c1ff2dd55"
      },
      "execution_count": null,
      "outputs": [
        {
          "output_type": "execute_result",
          "data": {
            "text/plain": [
              "2"
            ]
          },
          "metadata": {},
          "execution_count": 74
        }
      ]
    },
    {
      "cell_type": "code",
      "source": [
        "mx[1:4,1:]"
      ],
      "metadata": {
        "colab": {
          "base_uri": "https://localhost:8080/"
        },
        "id": "czRbyZRSY4k7",
        "outputId": "459481ad-c80c-4528-f106-6ec77ebe59a0"
      },
      "execution_count": null,
      "outputs": [
        {
          "output_type": "execute_result",
          "data": {
            "text/plain": [
              "array([[12, 13, 14, 15, 16, 17, 18, 19, 20],\n",
              "       [22, 23, 24, 25, 26, 27, 28, 29, 30],\n",
              "       [32, 33, 34, 35, 36, 37, 38, 39, 40]])"
            ]
          },
          "metadata": {},
          "execution_count": 75
        }
      ]
    },
    {
      "cell_type": "code",
      "source": [
        "mx[1:4,1:4]"
      ],
      "metadata": {
        "colab": {
          "base_uri": "https://localhost:8080/"
        },
        "id": "TqYuCPQQY52f",
        "outputId": "cca8bd6d-b447-4855-9a59-27813d08650c"
      },
      "execution_count": null,
      "outputs": [
        {
          "output_type": "execute_result",
          "data": {
            "text/plain": [
              "array([[12, 13, 14],\n",
              "       [22, 23, 24],\n",
              "       [32, 33, 34]])"
            ]
          },
          "metadata": {},
          "execution_count": 76
        }
      ]
    },
    {
      "cell_type": "code",
      "source": [
        "mx"
      ],
      "metadata": {
        "colab": {
          "base_uri": "https://localhost:8080/"
        },
        "id": "m6mczKxUY7Bc",
        "outputId": "aca9833f-ac29-405a-9e96-a01bd8cccebe"
      },
      "execution_count": null,
      "outputs": [
        {
          "output_type": "execute_result",
          "data": {
            "text/plain": [
              "array([[  1,   2,   3,   4,   5,   6,   7,   8,   9,  10],\n",
              "       [ 11,  12,  13,  14,  15,  16,  17,  18,  19,  20],\n",
              "       [ 21,  22,  23,  24,  25,  26,  27,  28,  29,  30],\n",
              "       [ 31,  32,  33,  34,  35,  36,  37,  38,  39,  40],\n",
              "       [ 41,  42,  43,  44,  45,  46,  47,  48,  49,  50],\n",
              "       [ 51,  52,  53,  54,  55,  56,  57,  58,  59,  60],\n",
              "       [ 61,  62,  63,  64,  65,  66,  67,  68,  69,  70],\n",
              "       [ 71,  72,  73,  74,  75,  76,  77,  78,  79,  80],\n",
              "       [ 81,  82,  83,  84,  85,  86,  87,  88,  89,  90],\n",
              "       [ 91,  92,  93,  94,  95,  96,  97,  98,  99, 100]])"
            ]
          },
          "metadata": {},
          "execution_count": 77
        }
      ]
    },
    {
      "cell_type": "code",
      "source": [
        "mx[:,1:2]"
      ],
      "metadata": {
        "colab": {
          "base_uri": "https://localhost:8080/"
        },
        "id": "2S8OcAhxY8I1",
        "outputId": "6641149a-7cec-4c97-b674-9175be3d1c97"
      },
      "execution_count": null,
      "outputs": [
        {
          "output_type": "execute_result",
          "data": {
            "text/plain": [
              "array([[ 2],\n",
              "       [12],\n",
              "       [22],\n",
              "       [32],\n",
              "       [42],\n",
              "       [52],\n",
              "       [62],\n",
              "       [72],\n",
              "       [82],\n",
              "       [92]])"
            ]
          },
          "metadata": {},
          "execution_count": 78
        }
      ]
    },
    {
      "cell_type": "code",
      "source": [
        "mx[::]"
      ],
      "metadata": {
        "colab": {
          "base_uri": "https://localhost:8080/"
        },
        "id": "Ib_qHPcnY9tV",
        "outputId": "3ad54734-065a-4f31-da3d-43bde9863967"
      },
      "execution_count": null,
      "outputs": [
        {
          "output_type": "execute_result",
          "data": {
            "text/plain": [
              "array([[  1,   2,   3,   4,   5,   6,   7,   8,   9,  10],\n",
              "       [ 11,  12,  13,  14,  15,  16,  17,  18,  19,  20],\n",
              "       [ 21,  22,  23,  24,  25,  26,  27,  28,  29,  30],\n",
              "       [ 31,  32,  33,  34,  35,  36,  37,  38,  39,  40],\n",
              "       [ 41,  42,  43,  44,  45,  46,  47,  48,  49,  50],\n",
              "       [ 51,  52,  53,  54,  55,  56,  57,  58,  59,  60],\n",
              "       [ 61,  62,  63,  64,  65,  66,  67,  68,  69,  70],\n",
              "       [ 71,  72,  73,  74,  75,  76,  77,  78,  79,  80],\n",
              "       [ 81,  82,  83,  84,  85,  86,  87,  88,  89,  90],\n",
              "       [ 91,  92,  93,  94,  95,  96,  97,  98,  99, 100]])"
            ]
          },
          "metadata": {},
          "execution_count": 79
        }
      ]
    },
    {
      "cell_type": "code",
      "source": [
        "mx[:,:]"
      ],
      "metadata": {
        "colab": {
          "base_uri": "https://localhost:8080/"
        },
        "id": "IWC7y04wY_FP",
        "outputId": "05b19319-944c-4afa-b1ee-ae4de517e869"
      },
      "execution_count": null,
      "outputs": [
        {
          "output_type": "execute_result",
          "data": {
            "text/plain": [
              "array([[  1,   2,   3,   4,   5,   6,   7,   8,   9,  10],\n",
              "       [ 11,  12,  13,  14,  15,  16,  17,  18,  19,  20],\n",
              "       [ 21,  22,  23,  24,  25,  26,  27,  28,  29,  30],\n",
              "       [ 31,  32,  33,  34,  35,  36,  37,  38,  39,  40],\n",
              "       [ 41,  42,  43,  44,  45,  46,  47,  48,  49,  50],\n",
              "       [ 51,  52,  53,  54,  55,  56,  57,  58,  59,  60],\n",
              "       [ 61,  62,  63,  64,  65,  66,  67,  68,  69,  70],\n",
              "       [ 71,  72,  73,  74,  75,  76,  77,  78,  79,  80],\n",
              "       [ 81,  82,  83,  84,  85,  86,  87,  88,  89,  90],\n",
              "       [ 91,  92,  93,  94,  95,  96,  97,  98,  99, 100]])"
            ]
          },
          "metadata": {},
          "execution_count": 80
        }
      ]
    },
    {
      "cell_type": "code",
      "source": [
        "mx.itemsize"
      ],
      "metadata": {
        "colab": {
          "base_uri": "https://localhost:8080/"
        },
        "id": "dMlLhtdKZAOG",
        "outputId": "f1ce433e-a336-411e-9f8a-56b9a4cf1b4f"
      },
      "execution_count": null,
      "outputs": [
        {
          "output_type": "execute_result",
          "data": {
            "text/plain": [
              "8"
            ]
          },
          "metadata": {},
          "execution_count": 81
        }
      ]
    },
    {
      "cell_type": "code",
      "source": [
        "mx.dtype"
      ],
      "metadata": {
        "colab": {
          "base_uri": "https://localhost:8080/"
        },
        "id": "1IhgVyx0ZBdG",
        "outputId": "ed3dac5d-4d2a-47ae-9a80-ee750174113d"
      },
      "execution_count": null,
      "outputs": [
        {
          "output_type": "execute_result",
          "data": {
            "text/plain": [
              "dtype('int64')"
            ]
          },
          "metadata": {},
          "execution_count": 82
        }
      ]
    },
    {
      "cell_type": "code",
      "source": [
        "64/8"
      ],
      "metadata": {
        "colab": {
          "base_uri": "https://localhost:8080/"
        },
        "id": "PLF3te-fZCiB",
        "outputId": "3b09e23b-75a6-48ef-f7f9-e22e1b2052bd"
      },
      "execution_count": null,
      "outputs": [
        {
          "output_type": "execute_result",
          "data": {
            "text/plain": [
              "8.0"
            ]
          },
          "metadata": {},
          "execution_count": 83
        }
      ]
    },
    {
      "cell_type": "markdown",
      "source": [
        "# numpy array concat and split "
      ],
      "metadata": {
        "id": "uhnnAbDJc9Vn"
      }
    },
    {
      "cell_type": "code",
      "source": [
        "arr1 = np.arange(1,17).reshape(4,4)\n",
        "print(arr1)"
      ],
      "metadata": {
        "colab": {
          "base_uri": "https://localhost:8080/"
        },
        "id": "cvIlaPmPZDoh",
        "outputId": "b824f20d-3bef-48aa-f26c-0d1452da0123"
      },
      "execution_count": null,
      "outputs": [
        {
          "output_type": "stream",
          "name": "stdout",
          "text": [
            "[[ 1  2  3  4]\n",
            " [ 5  6  7  8]\n",
            " [ 9 10 11 12]\n",
            " [13 14 15 16]]\n"
          ]
        }
      ]
    },
    {
      "cell_type": "code",
      "source": [
        "arr2 = np.arange(17,33).reshape(4,4)\n",
        "print(arr2)"
      ],
      "metadata": {
        "colab": {
          "base_uri": "https://localhost:8080/"
        },
        "id": "oBiR7d1fZFJt",
        "outputId": "49b264ac-1185-4a01-eff9-7fca747ffbd8"
      },
      "execution_count": null,
      "outputs": [
        {
          "output_type": "stream",
          "name": "stdout",
          "text": [
            "[[17 18 19 20]\n",
            " [21 22 23 24]\n",
            " [25 26 27 28]\n",
            " [29 30 31 32]]\n"
          ]
        }
      ]
    },
    {
      "cell_type": "code",
      "source": [
        "# normal array without numpy\n",
        "list1 = [1,2,3]\n",
        "list2 = [4,5,6]\n",
        "list1+list2"
      ],
      "metadata": {
        "colab": {
          "base_uri": "https://localhost:8080/"
        },
        "id": "q4rXouQoZGN6",
        "outputId": "e1b860b2-aa88-412c-803b-7d04e27f7f83"
      },
      "execution_count": 103,
      "outputs": [
        {
          "output_type": "execute_result",
          "data": {
            "text/plain": [
              "[1, 2, 3, 4, 5, 6]"
            ]
          },
          "metadata": {},
          "execution_count": 103
        }
      ]
    },
    {
      "cell_type": "code",
      "source": [
        "arr1+arr2"
      ],
      "metadata": {
        "colab": {
          "base_uri": "https://localhost:8080/"
        },
        "id": "OIgzDVF4ZIV2",
        "outputId": "1a3452d5-f455-4e28-8b60-82dd2afa9d32"
      },
      "execution_count": null,
      "outputs": [
        {
          "output_type": "execute_result",
          "data": {
            "text/plain": [
              "array([[18, 20, 22, 24],\n",
              "       [26, 28, 30, 32],\n",
              "       [34, 36, 38, 40],\n",
              "       [42, 44, 46, 48]])"
            ]
          },
          "metadata": {},
          "execution_count": 87
        }
      ]
    },
    {
      "cell_type": "code",
      "source": [
        "np.concatenate((arr1,arr2))"
      ],
      "metadata": {
        "colab": {
          "base_uri": "https://localhost:8080/"
        },
        "id": "1CRrczw4ZJ9y",
        "outputId": "4b36e209-1949-4f09-ee82-5cd72459df7f"
      },
      "execution_count": null,
      "outputs": [
        {
          "output_type": "execute_result",
          "data": {
            "text/plain": [
              "array([[ 1,  2,  3,  4],\n",
              "       [ 5,  6,  7,  8],\n",
              "       [ 9, 10, 11, 12],\n",
              "       [13, 14, 15, 16],\n",
              "       [17, 18, 19, 20],\n",
              "       [21, 22, 23, 24],\n",
              "       [25, 26, 27, 28],\n",
              "       [29, 30, 31, 32]])"
            ]
          },
          "metadata": {},
          "execution_count": 88
        }
      ]
    },
    {
      "cell_type": "code",
      "source": [
        "np.concatenate((arr1,arr2),axis=1)"
      ],
      "metadata": {
        "colab": {
          "base_uri": "https://localhost:8080/"
        },
        "id": "xuBDgX4gZRVI",
        "outputId": "c5a30d35-ee63-450d-890c-8b4fca013a75"
      },
      "execution_count": null,
      "outputs": [
        {
          "output_type": "execute_result",
          "data": {
            "text/plain": [
              "array([[ 1,  2,  3,  4, 17, 18, 19, 20],\n",
              "       [ 5,  6,  7,  8, 21, 22, 23, 24],\n",
              "       [ 9, 10, 11, 12, 25, 26, 27, 28],\n",
              "       [13, 14, 15, 16, 29, 30, 31, 32]])"
            ]
          },
          "metadata": {},
          "execution_count": 91
        }
      ]
    },
    {
      "cell_type": "code",
      "source": [
        "np.vstack((arr1,arr2))"
      ],
      "metadata": {
        "colab": {
          "base_uri": "https://localhost:8080/"
        },
        "id": "MUs6D8oLZTB0",
        "outputId": "9b5e0c6d-3a7a-45fe-f7c3-f7c8b57195c9"
      },
      "execution_count": null,
      "outputs": [
        {
          "output_type": "execute_result",
          "data": {
            "text/plain": [
              "array([[ 1,  2,  3,  4],\n",
              "       [ 5,  6,  7,  8],\n",
              "       [ 9, 10, 11, 12],\n",
              "       [13, 14, 15, 16],\n",
              "       [17, 18, 19, 20],\n",
              "       [21, 22, 23, 24],\n",
              "       [25, 26, 27, 28],\n",
              "       [29, 30, 31, 32]])"
            ]
          },
          "metadata": {},
          "execution_count": 92
        }
      ]
    },
    {
      "cell_type": "code",
      "source": [
        "np.hstack((arr1,arr2))"
      ],
      "metadata": {
        "colab": {
          "base_uri": "https://localhost:8080/"
        },
        "id": "1AVMe7LSZUOO",
        "outputId": "275b77a5-84b9-4294-b52b-f0b9cfb06de9"
      },
      "execution_count": null,
      "outputs": [
        {
          "output_type": "execute_result",
          "data": {
            "text/plain": [
              "array([[ 1,  2,  3,  4, 17, 18, 19, 20],\n",
              "       [ 5,  6,  7,  8, 21, 22, 23, 24],\n",
              "       [ 9, 10, 11, 12, 25, 26, 27, 28],\n",
              "       [13, 14, 15, 16, 29, 30, 31, 32]])"
            ]
          },
          "metadata": {},
          "execution_count": 93
        }
      ]
    },
    {
      "cell_type": "code",
      "source": [
        "np.hstack((arr1,arr2,arr1))"
      ],
      "metadata": {
        "colab": {
          "base_uri": "https://localhost:8080/"
        },
        "id": "xi29yUOWZVgc",
        "outputId": "6f9bf60d-7b56-411d-f89f-92180ed4dd8a"
      },
      "execution_count": null,
      "outputs": [
        {
          "output_type": "execute_result",
          "data": {
            "text/plain": [
              "array([[ 1,  2,  3,  4, 17, 18, 19, 20,  1,  2,  3,  4],\n",
              "       [ 5,  6,  7,  8, 21, 22, 23, 24,  5,  6,  7,  8],\n",
              "       [ 9, 10, 11, 12, 25, 26, 27, 28,  9, 10, 11, 12],\n",
              "       [13, 14, 15, 16, 29, 30, 31, 32, 13, 14, 15, 16]])"
            ]
          },
          "metadata": {},
          "execution_count": 94
        }
      ]
    },
    {
      "cell_type": "code",
      "source": [
        "list1 = np.split(arr1,2)\n",
        "print(list1)"
      ],
      "metadata": {
        "colab": {
          "base_uri": "https://localhost:8080/"
        },
        "id": "IMFF4GOrZW0w",
        "outputId": "c29b5c2a-aeaf-4164-cb36-8a2c2ce2df10"
      },
      "execution_count": null,
      "outputs": [
        {
          "output_type": "stream",
          "name": "stdout",
          "text": [
            "[array([[1, 2, 3, 4],\n",
            "       [5, 6, 7, 8]]), array([[ 9, 10, 11, 12],\n",
            "       [13, 14, 15, 16]])]\n"
          ]
        }
      ]
    },
    {
      "cell_type": "code",
      "source": [
        "type(list1)"
      ],
      "metadata": {
        "colab": {
          "base_uri": "https://localhost:8080/"
        },
        "id": "kNMWMVs9ZYWf",
        "outputId": "2cbe37d1-207d-42f4-cea6-eb20d3a09f7e"
      },
      "execution_count": null,
      "outputs": [
        {
          "output_type": "execute_result",
          "data": {
            "text/plain": [
              "list"
            ]
          },
          "metadata": {},
          "execution_count": 97
        }
      ]
    },
    {
      "cell_type": "code",
      "source": [
        "list1[0]"
      ],
      "metadata": {
        "colab": {
          "base_uri": "https://localhost:8080/"
        },
        "id": "CJoHUsuFZbaL",
        "outputId": "8625ed42-7590-4082-bb22-d12e1b45a3b8"
      },
      "execution_count": null,
      "outputs": [
        {
          "output_type": "execute_result",
          "data": {
            "text/plain": [
              "array([[1, 2, 3, 4],\n",
              "       [5, 6, 7, 8]])"
            ]
          },
          "metadata": {},
          "execution_count": 98
        }
      ]
    },
    {
      "cell_type": "code",
      "source": [
        "type(list1[0])"
      ],
      "metadata": {
        "colab": {
          "base_uri": "https://localhost:8080/"
        },
        "id": "9ECal-xsZcUu",
        "outputId": "e76d41d4-cd8d-4aa2-acff-e6fee15aec11"
      },
      "execution_count": null,
      "outputs": [
        {
          "output_type": "execute_result",
          "data": {
            "text/plain": [
              "numpy.ndarray"
            ]
          },
          "metadata": {},
          "execution_count": 99
        }
      ]
    },
    {
      "cell_type": "code",
      "source": [
        "list2 = np.split(arr1,2,axis=1)\n",
        "list2"
      ],
      "metadata": {
        "colab": {
          "base_uri": "https://localhost:8080/"
        },
        "id": "MpLbvrwJZdnj",
        "outputId": "212c505f-cf18-47b2-942b-6006c01a1307"
      },
      "execution_count": null,
      "outputs": [
        {
          "output_type": "execute_result",
          "data": {
            "text/plain": [
              "[array([[ 1,  2],\n",
              "        [ 5,  6],\n",
              "        [ 9, 10],\n",
              "        [13, 14]]), array([[ 3,  4],\n",
              "        [ 7,  8],\n",
              "        [11, 12],\n",
              "        [15, 16]])]"
            ]
          },
          "metadata": {},
          "execution_count": 100
        }
      ]
    },
    {
      "cell_type": "code",
      "source": [
        "d1 = np.array([4,7,1,3,9])\n",
        "np.split(d1,[1,3])"
      ],
      "metadata": {
        "id": "id-PrtOcZfD8",
        "colab": {
          "base_uri": "https://localhost:8080/"
        },
        "outputId": "fa91e8dc-fd53-4417-c3c1-61b43ec495b2"
      },
      "execution_count": 106,
      "outputs": [
        {
          "output_type": "execute_result",
          "data": {
            "text/plain": [
              "[array([4]), array([7, 1]), array([3, 9])]"
            ]
          },
          "metadata": {},
          "execution_count": 106
        }
      ]
    },
    {
      "cell_type": "markdown",
      "source": [
        "# Random"
      ],
      "metadata": {
        "id": "asdadrPzeRYr"
      }
    },
    {
      "cell_type": "code",
      "source": [
        "import random "
      ],
      "metadata": {
        "id": "PwAi7l_IZiMj"
      },
      "execution_count": 107,
      "outputs": []
    },
    {
      "cell_type": "code",
      "source": [
        "np.random.random(1)"
      ],
      "metadata": {
        "colab": {
          "base_uri": "https://localhost:8080/"
        },
        "id": "YrQMtJlzeT2V",
        "outputId": "a4c89587-e8dc-4f97-fc01-a0bbce4ccef9"
      },
      "execution_count": 108,
      "outputs": [
        {
          "output_type": "execute_result",
          "data": {
            "text/plain": [
              "array([0.65552705])"
            ]
          },
          "metadata": {},
          "execution_count": 108
        }
      ]
    },
    {
      "cell_type": "code",
      "source": [
        "np.random.random((3,3))"
      ],
      "metadata": {
        "colab": {
          "base_uri": "https://localhost:8080/"
        },
        "id": "m3Bd9a2KeVRc",
        "outputId": "e4601a2d-9e62-42c4-ea76-6861387ac118"
      },
      "execution_count": 109,
      "outputs": [
        {
          "output_type": "execute_result",
          "data": {
            "text/plain": [
              "array([[0.49826625, 0.61774328, 0.57998058],\n",
              "       [0.43615229, 0.69287655, 0.6675649 ],\n",
              "       [0.34730313, 0.75293266, 0.45288042]])"
            ]
          },
          "metadata": {},
          "execution_count": 109
        }
      ]
    },
    {
      "cell_type": "code",
      "source": [
        "np.random.randint(1,4)"
      ],
      "metadata": {
        "colab": {
          "base_uri": "https://localhost:8080/"
        },
        "id": "fOJvesAJeWuw",
        "outputId": "9b9d2f64-aa4f-4a5a-a5cd-257eda7d982d"
      },
      "execution_count": 110,
      "outputs": [
        {
          "output_type": "execute_result",
          "data": {
            "text/plain": [
              "2"
            ]
          },
          "metadata": {},
          "execution_count": 110
        }
      ]
    },
    {
      "cell_type": "code",
      "source": [
        "np.random.randint(1,4,(4,4))"
      ],
      "metadata": {
        "colab": {
          "base_uri": "https://localhost:8080/"
        },
        "id": "9Ut04brneYkc",
        "outputId": "76a41b7b-e422-4503-bb03-873bf6178c8e"
      },
      "execution_count": 111,
      "outputs": [
        {
          "output_type": "execute_result",
          "data": {
            "text/plain": [
              "array([[1, 1, 1, 1],\n",
              "       [3, 3, 1, 2],\n",
              "       [3, 1, 2, 2],\n",
              "       [2, 2, 1, 1]])"
            ]
          },
          "metadata": {},
          "execution_count": 111
        }
      ]
    },
    {
      "cell_type": "code",
      "source": [
        "np.random.randint(1,4,(2,4,4))"
      ],
      "metadata": {
        "colab": {
          "base_uri": "https://localhost:8080/"
        },
        "id": "4jn_LXXteaGq",
        "outputId": "e44f72f8-e216-4cce-c9c7-59191290c945"
      },
      "execution_count": 112,
      "outputs": [
        {
          "output_type": "execute_result",
          "data": {
            "text/plain": [
              "array([[[1, 3, 3, 2],\n",
              "        [1, 3, 2, 3],\n",
              "        [3, 1, 3, 1],\n",
              "        [2, 1, 1, 2]],\n",
              "\n",
              "       [[2, 2, 1, 2],\n",
              "        [2, 1, 1, 2],\n",
              "        [3, 3, 3, 3],\n",
              "        [3, 3, 1, 3]]])"
            ]
          },
          "metadata": {},
          "execution_count": 112
        }
      ]
    },
    {
      "cell_type": "code",
      "source": [
        "np.random.seed(10)\n",
        "np.random.randint(1,4,(2,4,4))"
      ],
      "metadata": {
        "colab": {
          "base_uri": "https://localhost:8080/"
        },
        "id": "yRRgIechebaY",
        "outputId": "7a7f1843-6ed4-43e5-fa12-1d2c43d7955c"
      },
      "execution_count": 152,
      "outputs": [
        {
          "output_type": "execute_result",
          "data": {
            "text/plain": [
              "array([[[2, 2, 1, 1],\n",
              "        [2, 1, 2, 2],\n",
              "        [1, 2, 2, 3],\n",
              "        [1, 2, 1, 3]],\n",
              "\n",
              "       [[1, 3, 1, 1],\n",
              "        [1, 3, 1, 3],\n",
              "        [3, 2, 1, 1],\n",
              "        [3, 2, 3, 2]]])"
            ]
          },
          "metadata": {},
          "execution_count": 152
        }
      ]
    },
    {
      "cell_type": "code",
      "source": [
        "np.random.seed(10)\n",
        "np.random.randint(1,4,(2,4,4))"
      ],
      "metadata": {
        "colab": {
          "base_uri": "https://localhost:8080/"
        },
        "id": "OOhVgbJUecuX",
        "outputId": "e7a9d6a9-5e6c-4e77-c3b6-0908e9a71121"
      },
      "execution_count": 153,
      "outputs": [
        {
          "output_type": "execute_result",
          "data": {
            "text/plain": [
              "array([[[2, 2, 1, 1],\n",
              "        [2, 1, 2, 2],\n",
              "        [1, 2, 2, 3],\n",
              "        [1, 2, 1, 3]],\n",
              "\n",
              "       [[1, 3, 1, 1],\n",
              "        [1, 3, 1, 3],\n",
              "        [3, 2, 1, 1],\n",
              "        [3, 2, 3, 2]]])"
            ]
          },
          "metadata": {},
          "execution_count": 153
        }
      ]
    },
    {
      "cell_type": "code",
      "source": [
        "2**32-1"
      ],
      "metadata": {
        "colab": {
          "base_uri": "https://localhost:8080/"
        },
        "id": "5PjZwz4lhR24",
        "outputId": "cc88586b-3674-4ef1-dd76-ee4779f9d3a2"
      },
      "execution_count": 154,
      "outputs": [
        {
          "output_type": "execute_result",
          "data": {
            "text/plain": [
              "4294967295"
            ]
          },
          "metadata": {},
          "execution_count": 154
        }
      ]
    },
    {
      "cell_type": "code",
      "source": [
        "np.random.rand(3)"
      ],
      "metadata": {
        "colab": {
          "base_uri": "https://localhost:8080/"
        },
        "id": "ujRqbaasegU8",
        "outputId": "ff461e79-e2f0-4f14-c32b-79774823c1dc"
      },
      "execution_count": 117,
      "outputs": [
        {
          "output_type": "execute_result",
          "data": {
            "text/plain": [
              "array([0.77132064, 0.02075195, 0.63364823])"
            ]
          },
          "metadata": {},
          "execution_count": 117
        }
      ]
    },
    {
      "cell_type": "code",
      "source": [
        "np.random.rand(3,3)"
      ],
      "metadata": {
        "colab": {
          "base_uri": "https://localhost:8080/"
        },
        "id": "RXeP6MRKeh6w",
        "outputId": "7d90a161-e673-43ce-a549-209f89f1dee3"
      },
      "execution_count": 118,
      "outputs": [
        {
          "output_type": "execute_result",
          "data": {
            "text/plain": [
              "array([[0.74880388, 0.49850701, 0.22479665],\n",
              "       [0.19806286, 0.76053071, 0.16911084],\n",
              "       [0.08833981, 0.68535982, 0.95339335]])"
            ]
          },
          "metadata": {},
          "execution_count": 118
        }
      ]
    },
    {
      "cell_type": "code",
      "source": [
        "np.random.randn(3,3)"
      ],
      "metadata": {
        "colab": {
          "base_uri": "https://localhost:8080/"
        },
        "id": "2IxuD6LdekX7",
        "outputId": "6b2587d1-1438-4488-b590-c493280465e5"
      },
      "execution_count": 155,
      "outputs": [
        {
          "output_type": "execute_result",
          "data": {
            "text/plain": [
              "array([[-0.24066194, -1.02735202,  0.42401507],\n",
              "       [ 1.40862087,  0.43999202, -0.42823439],\n",
              "       [-0.31201268, -0.56888339, -1.58494101]])"
            ]
          },
          "metadata": {},
          "execution_count": 155
        }
      ]
    },
    {
      "cell_type": "code",
      "source": [
        "x=[1,2,3,4]"
      ],
      "metadata": {
        "id": "lCg9pJvtel3z"
      },
      "execution_count": 120,
      "outputs": []
    },
    {
      "cell_type": "code",
      "source": [
        "np.random.choice(x)"
      ],
      "metadata": {
        "colab": {
          "base_uri": "https://localhost:8080/"
        },
        "id": "bNy0i79kenFn",
        "outputId": "13975209-34e5-4575-f1e6-65a1a416553f"
      },
      "execution_count": 121,
      "outputs": [
        {
          "output_type": "execute_result",
          "data": {
            "text/plain": [
              "2"
            ]
          },
          "metadata": {},
          "execution_count": 121
        }
      ]
    },
    {
      "cell_type": "code",
      "source": [
        "for i in range(20):\n",
        "  print(np.random.choice(x))"
      ],
      "metadata": {
        "colab": {
          "base_uri": "https://localhost:8080/"
        },
        "id": "U_bVk0F2hpgz",
        "outputId": "1059523a-f03f-4d49-9307-3c05f8654d72"
      },
      "execution_count": 157,
      "outputs": [
        {
          "output_type": "stream",
          "name": "stdout",
          "text": [
            "1\n",
            "4\n",
            "1\n",
            "1\n",
            "3\n",
            "1\n",
            "3\n",
            "3\n",
            "1\n",
            "4\n",
            "2\n",
            "1\n",
            "4\n",
            "2\n",
            "3\n",
            "3\n",
            "2\n",
            "3\n",
            "3\n",
            "4\n"
          ]
        }
      ]
    },
    {
      "cell_type": "code",
      "source": [
        "np.random.permutation(x)"
      ],
      "metadata": {
        "colab": {
          "base_uri": "https://localhost:8080/"
        },
        "id": "fidAYJL6eobe",
        "outputId": "5420a10a-5317-43b9-f05e-53079e310476"
      },
      "execution_count": 122,
      "outputs": [
        {
          "output_type": "execute_result",
          "data": {
            "text/plain": [
              "array([2, 4, 3, 1])"
            ]
          },
          "metadata": {},
          "execution_count": 122
        }
      ]
    },
    {
      "cell_type": "code",
      "source": [
        "np.random.permutation(x)"
      ],
      "metadata": {
        "colab": {
          "base_uri": "https://localhost:8080/"
        },
        "id": "aze0oxOqh3o4",
        "outputId": "ec818c10-389e-43aa-b2ff-09610a3e7dce"
      },
      "execution_count": 158,
      "outputs": [
        {
          "output_type": "execute_result",
          "data": {
            "text/plain": [
              "array([2, 3, 4, 1])"
            ]
          },
          "metadata": {},
          "execution_count": 158
        }
      ]
    },
    {
      "cell_type": "markdown",
      "source": [
        "# String"
      ],
      "metadata": {
        "id": "6hF22ZAveu9E"
      }
    },
    {
      "cell_type": "code",
      "source": [
        "str1=\"Sachin Gupta \"\n",
        "str2=\"Learning python numpy\"\n",
        "np.char.add(str1,str2)"
      ],
      "metadata": {
        "colab": {
          "base_uri": "https://localhost:8080/"
        },
        "id": "BhnIoAKKepuU",
        "outputId": "9709bbb2-0ccd-405d-cc28-09d56437ab8b"
      },
      "execution_count": 123,
      "outputs": [
        {
          "output_type": "execute_result",
          "data": {
            "text/plain": [
              "array('Sachin Gupta Learning python numpy', dtype='<U34')"
            ]
          },
          "metadata": {},
          "execution_count": 123
        }
      ]
    },
    {
      "cell_type": "code",
      "source": [
        "np.char.lower(str1)"
      ],
      "metadata": {
        "colab": {
          "base_uri": "https://localhost:8080/"
        },
        "id": "_tiKPuYOezWq",
        "outputId": "9d12240a-5269-445a-9947-294736f51a91"
      },
      "execution_count": 124,
      "outputs": [
        {
          "output_type": "execute_result",
          "data": {
            "text/plain": [
              "array('sachin gupta ', dtype='<U13')"
            ]
          },
          "metadata": {},
          "execution_count": 124
        }
      ]
    },
    {
      "cell_type": "code",
      "source": [
        "np.char.upper(str1)"
      ],
      "metadata": {
        "colab": {
          "base_uri": "https://localhost:8080/"
        },
        "id": "5JEIaZ2je1AP",
        "outputId": "76806c54-36a5-49f0-b3f5-a7ff5a133bea"
      },
      "execution_count": 125,
      "outputs": [
        {
          "output_type": "execute_result",
          "data": {
            "text/plain": [
              "array('SACHIN GUPTA ', dtype='<U13')"
            ]
          },
          "metadata": {},
          "execution_count": 125
        }
      ]
    },
    {
      "cell_type": "code",
      "source": [
        "np.char.center(str1,30)"
      ],
      "metadata": {
        "colab": {
          "base_uri": "https://localhost:8080/"
        },
        "id": "EkutITC4e2SA",
        "outputId": "2ec70b07-7625-482c-811c-b8d45cb3d30f"
      },
      "execution_count": 126,
      "outputs": [
        {
          "output_type": "execute_result",
          "data": {
            "text/plain": [
              "array('        Sachin Gupta          ', dtype='<U30')"
            ]
          },
          "metadata": {},
          "execution_count": 126
        }
      ]
    },
    {
      "cell_type": "code",
      "source": [
        "np.char.center(str1,30,fillchar=\"*\")"
      ],
      "metadata": {
        "colab": {
          "base_uri": "https://localhost:8080/"
        },
        "id": "nqMscKkke3p1",
        "outputId": "48dcf07e-2860-40e4-b52e-00cc04380405"
      },
      "execution_count": 127,
      "outputs": [
        {
          "output_type": "execute_result",
          "data": {
            "text/plain": [
              "array('********Sachin Gupta *********', dtype='<U30')"
            ]
          },
          "metadata": {},
          "execution_count": 127
        }
      ]
    },
    {
      "cell_type": "code",
      "source": [
        "np.char.split(str1)"
      ],
      "metadata": {
        "colab": {
          "base_uri": "https://localhost:8080/"
        },
        "id": "xifFO1f4e5SH",
        "outputId": "657bbb0a-f75f-497a-b243-11e6742fca21"
      },
      "execution_count": 128,
      "outputs": [
        {
          "output_type": "execute_result",
          "data": {
            "text/plain": [
              "array(list(['Sachin', 'Gupta']), dtype=object)"
            ]
          },
          "metadata": {},
          "execution_count": 128
        }
      ]
    },
    {
      "cell_type": "code",
      "source": [
        "np.char.splitlines(\"hello\\nindian\")"
      ],
      "metadata": {
        "colab": {
          "base_uri": "https://localhost:8080/"
        },
        "id": "Zu4Chpz0e6XN",
        "outputId": "e8730cd5-9b07-4dc3-b0b7-88f9a326b2aa"
      },
      "execution_count": 129,
      "outputs": [
        {
          "output_type": "execute_result",
          "data": {
            "text/plain": [
              "array(list(['hello', 'indian']), dtype=object)"
            ]
          },
          "metadata": {},
          "execution_count": 129
        }
      ]
    },
    {
      "cell_type": "code",
      "source": [
        "s1=\"dmy\"\n",
        "s2=\"dmy\""
      ],
      "metadata": {
        "id": "Mb5TDHDye7oM"
      },
      "execution_count": 130,
      "outputs": []
    },
    {
      "cell_type": "code",
      "source": [
        "np.char.join([\":\",\"/\"],[s1,s2])"
      ],
      "metadata": {
        "colab": {
          "base_uri": "https://localhost:8080/"
        },
        "id": "ArN4uchke88j",
        "outputId": "7ca9d26a-6bc3-4257-ac56-e7308b447cae"
      },
      "execution_count": 131,
      "outputs": [
        {
          "output_type": "execute_result",
          "data": {
            "text/plain": [
              "array(['d:m:y', 'd/m/y'], dtype='<U5')"
            ]
          },
          "metadata": {},
          "execution_count": 131
        }
      ]
    },
    {
      "cell_type": "code",
      "source": [
        "np.char.replace(str1,\"Sachin\",\"jerry\")"
      ],
      "metadata": {
        "colab": {
          "base_uri": "https://localhost:8080/"
        },
        "id": "Yea4se_5e-f-",
        "outputId": "16a265c5-d6ad-4259-9a29-aaac6aceb1b1"
      },
      "execution_count": 132,
      "outputs": [
        {
          "output_type": "execute_result",
          "data": {
            "text/plain": [
              "array('jerry Gupta ', dtype='<U12')"
            ]
          },
          "metadata": {},
          "execution_count": 132
        }
      ]
    },
    {
      "cell_type": "code",
      "source": [
        "np.char.equal(s1,s2)"
      ],
      "metadata": {
        "colab": {
          "base_uri": "https://localhost:8080/"
        },
        "id": "IHkdTQULe_rz",
        "outputId": "f4f19bac-2544-4e38-c244-ff27ca97797b"
      },
      "execution_count": 133,
      "outputs": [
        {
          "output_type": "execute_result",
          "data": {
            "text/plain": [
              "array(True)"
            ]
          },
          "metadata": {},
          "execution_count": 133
        }
      ]
    },
    {
      "cell_type": "code",
      "source": [
        "np.char.count(str1,\"a\")"
      ],
      "metadata": {
        "colab": {
          "base_uri": "https://localhost:8080/"
        },
        "id": "xNOy0Jj-fAzq",
        "outputId": "7ff6ac0d-d836-4076-dcfb-beb9c25d810a"
      },
      "execution_count": 134,
      "outputs": [
        {
          "output_type": "execute_result",
          "data": {
            "text/plain": [
              "array(2)"
            ]
          },
          "metadata": {},
          "execution_count": 134
        }
      ]
    },
    {
      "cell_type": "code",
      "source": [
        "np.char.find(str1,\"Gup\")"
      ],
      "metadata": {
        "colab": {
          "base_uri": "https://localhost:8080/"
        },
        "id": "dhat25AifB4K",
        "outputId": "989769a2-5f7d-4f98-cf18-851cb4ce50f3"
      },
      "execution_count": 135,
      "outputs": [
        {
          "output_type": "execute_result",
          "data": {
            "text/plain": [
              "array(7)"
            ]
          },
          "metadata": {},
          "execution_count": 135
        }
      ]
    },
    {
      "cell_type": "markdown",
      "source": [
        "# Trigonometry"
      ],
      "metadata": {
        "id": "gzjdf4E0fK_p"
      }
    },
    {
      "cell_type": "code",
      "source": [
        "import matplotlib.pyplot as plt"
      ],
      "metadata": {
        "id": "YNr5Y5s2ffIG"
      },
      "execution_count": 140,
      "outputs": []
    },
    {
      "cell_type": "code",
      "source": [
        "np.sin(180)"
      ],
      "metadata": {
        "colab": {
          "base_uri": "https://localhost:8080/"
        },
        "id": "EmG_SbxgfC_s",
        "outputId": "46c3475b-a01a-472e-fb75-d633f02d3e46"
      },
      "execution_count": 136,
      "outputs": [
        {
          "output_type": "execute_result",
          "data": {
            "text/plain": [
              "-0.8011526357338304"
            ]
          },
          "metadata": {},
          "execution_count": 136
        }
      ]
    },
    {
      "cell_type": "code",
      "source": [
        "np.sin(90)"
      ],
      "metadata": {
        "colab": {
          "base_uri": "https://localhost:8080/"
        },
        "id": "NxV0f5wWfO5Y",
        "outputId": "95cbb746-2433-41a7-c6c6-e1c5680dcb19"
      },
      "execution_count": 137,
      "outputs": [
        {
          "output_type": "execute_result",
          "data": {
            "text/plain": [
              "0.8939966636005579"
            ]
          },
          "metadata": {},
          "execution_count": 137
        }
      ]
    },
    {
      "cell_type": "code",
      "source": [
        "np.cos(180)"
      ],
      "metadata": {
        "colab": {
          "base_uri": "https://localhost:8080/"
        },
        "id": "7idSXX9dfSBH",
        "outputId": "8b2b0508-9d58-43f9-ce4b-1f1c5786741c"
      },
      "execution_count": 138,
      "outputs": [
        {
          "output_type": "execute_result",
          "data": {
            "text/plain": [
              "-0.5984600690578581"
            ]
          },
          "metadata": {},
          "execution_count": 138
        }
      ]
    },
    {
      "cell_type": "code",
      "source": [
        "np.tan(180)"
      ],
      "metadata": {
        "colab": {
          "base_uri": "https://localhost:8080/"
        },
        "id": "0_Q8wLCQfVGq",
        "outputId": "9bf2e64f-6d64-4995-dc78-e795c29af5c9"
      },
      "execution_count": 139,
      "outputs": [
        {
          "output_type": "execute_result",
          "data": {
            "text/plain": [
              "1.3386902103511544"
            ]
          },
          "metadata": {},
          "execution_count": 139
        }
      ]
    },
    {
      "cell_type": "code",
      "source": [
        "x_sin = np.arange(0,3*np.pi,0.1)\n",
        "x_sin"
      ],
      "metadata": {
        "colab": {
          "base_uri": "https://localhost:8080/"
        },
        "id": "TpZTrVATfX8J",
        "outputId": "54836aa0-e9d3-41a3-8f03-e05137a7c243"
      },
      "execution_count": 141,
      "outputs": [
        {
          "output_type": "execute_result",
          "data": {
            "text/plain": [
              "array([0. , 0.1, 0.2, 0.3, 0.4, 0.5, 0.6, 0.7, 0.8, 0.9, 1. , 1.1, 1.2,\n",
              "       1.3, 1.4, 1.5, 1.6, 1.7, 1.8, 1.9, 2. , 2.1, 2.2, 2.3, 2.4, 2.5,\n",
              "       2.6, 2.7, 2.8, 2.9, 3. , 3.1, 3.2, 3.3, 3.4, 3.5, 3.6, 3.7, 3.8,\n",
              "       3.9, 4. , 4.1, 4.2, 4.3, 4.4, 4.5, 4.6, 4.7, 4.8, 4.9, 5. , 5.1,\n",
              "       5.2, 5.3, 5.4, 5.5, 5.6, 5.7, 5.8, 5.9, 6. , 6.1, 6.2, 6.3, 6.4,\n",
              "       6.5, 6.6, 6.7, 6.8, 6.9, 7. , 7.1, 7.2, 7.3, 7.4, 7.5, 7.6, 7.7,\n",
              "       7.8, 7.9, 8. , 8.1, 8.2, 8.3, 8.4, 8.5, 8.6, 8.7, 8.8, 8.9, 9. ,\n",
              "       9.1, 9.2, 9.3, 9.4])"
            ]
          },
          "metadata": {},
          "execution_count": 141
        }
      ]
    },
    {
      "cell_type": "code",
      "source": [
        "y_sin = np.sin(x_sin)\n",
        "y_sin"
      ],
      "metadata": {
        "colab": {
          "base_uri": "https://localhost:8080/"
        },
        "id": "v5It0LKvfwEs",
        "outputId": "2746e0ec-567a-4ebd-fe71-ba3279f1718f"
      },
      "execution_count": 142,
      "outputs": [
        {
          "output_type": "execute_result",
          "data": {
            "text/plain": [
              "array([ 0.        ,  0.09983342,  0.19866933,  0.29552021,  0.38941834,\n",
              "        0.47942554,  0.56464247,  0.64421769,  0.71735609,  0.78332691,\n",
              "        0.84147098,  0.89120736,  0.93203909,  0.96355819,  0.98544973,\n",
              "        0.99749499,  0.9995736 ,  0.99166481,  0.97384763,  0.94630009,\n",
              "        0.90929743,  0.86320937,  0.8084964 ,  0.74570521,  0.67546318,\n",
              "        0.59847214,  0.51550137,  0.42737988,  0.33498815,  0.23924933,\n",
              "        0.14112001,  0.04158066, -0.05837414, -0.15774569, -0.2555411 ,\n",
              "       -0.35078323, -0.44252044, -0.52983614, -0.61185789, -0.68776616,\n",
              "       -0.7568025 , -0.81827711, -0.87157577, -0.91616594, -0.95160207,\n",
              "       -0.97753012, -0.993691  , -0.99992326, -0.99616461, -0.98245261,\n",
              "       -0.95892427, -0.92581468, -0.88345466, -0.83226744, -0.77276449,\n",
              "       -0.70554033, -0.63126664, -0.55068554, -0.46460218, -0.37387666,\n",
              "       -0.2794155 , -0.1821625 , -0.0830894 ,  0.0168139 ,  0.1165492 ,\n",
              "        0.21511999,  0.31154136,  0.40484992,  0.49411335,  0.57843976,\n",
              "        0.6569866 ,  0.72896904,  0.79366786,  0.85043662,  0.8987081 ,\n",
              "        0.93799998,  0.96791967,  0.98816823,  0.99854335,  0.99894134,\n",
              "        0.98935825,  0.96988981,  0.94073056,  0.90217183,  0.85459891,\n",
              "        0.79848711,  0.7343971 ,  0.66296923,  0.58491719,  0.50102086,\n",
              "        0.41211849,  0.31909836,  0.22288991,  0.12445442,  0.02477543])"
            ]
          },
          "metadata": {},
          "execution_count": 142
        }
      ]
    },
    {
      "cell_type": "code",
      "source": [
        "plt.plot(x_sin,y_sin)\n",
        "plt.show()"
      ],
      "metadata": {
        "colab": {
          "base_uri": "https://localhost:8080/",
          "height": 265
        },
        "id": "20ssu5n7f3l0",
        "outputId": "422293e8-8a75-44f4-b465-baa4a9fb326b"
      },
      "execution_count": 145,
      "outputs": [
        {
          "output_type": "display_data",
          "data": {
            "text/plain": [
              "<Figure size 432x288 with 1 Axes>"
            ],
            "image/png": "[encoded data removed]"
          },
          "metadata": {
            "needs_background": "light"
          }
        }
      ]
    },
    {
      "cell_type": "code",
      "source": [
        "y_cos=np.cos(x_sin)\n",
        "plt.plot(x_sin,y_cos)\n",
        "plt.show()"
      ],
      "metadata": {
        "colab": {
          "base_uri": "https://localhost:8080/",
          "height": 265
        },
        "id": "2Wx3OZiLf8no",
        "outputId": "a32df380-8da8-4cdc-e7cb-27b9adacb503"
      },
      "execution_count": 146,
      "outputs": [
        {
          "output_type": "display_data",
          "data": {
            "text/plain": [
              "<Figure size 432x288 with 1 Axes>"
            ],
            "image/png": "[encoded data removed]"
          },
          "metadata": {
            "needs_background": "light"
          }
        }
      ]
    },
    {
      "cell_type": "code",
      "source": [
        "y_tan=np.tan(x_sin)\n",
        "plt.plot(x_sin,y_tan)\n",
        "plt.show()"
      ],
      "metadata": {
        "colab": {
          "base_uri": "https://localhost:8080/",
          "height": 265
        },
        "id": "vRpkcd7jf-wC",
        "outputId": "16cf3176-b1b9-4523-e7e5-69e2402babc5"
      },
      "execution_count": 147,
      "outputs": [
        {
          "output_type": "display_data",
          "data": {
            "text/plain": [
              "<Figure size 432x288 with 1 Axes>"
            ],
            "image/png": "[encoded data removed]"
          },
          "metadata": {
            "needs_background": "light"
          }
        }
      ]
    },
    {
      "cell_type": "code",
      "source": [
        ""
      ],
      "metadata": {
        "id": "lKE79JfsgRMo"
      },
      "execution_count": null,
      "outputs": []
    }
  ]
}